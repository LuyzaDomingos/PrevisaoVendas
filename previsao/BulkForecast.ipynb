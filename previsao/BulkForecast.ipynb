{
 "cells": [
  {
   "cell_type": "markdown",
   "id": "mineral-sculpture",
   "metadata": {},
   "source": [
    "# Bulk Forecast\n",
    "\n",
    "Geração de previsões para multiplas categorias"
   ]
  },
  {
   "cell_type": "code",
   "execution_count": 1,
   "id": "protected-softball",
   "metadata": {},
   "outputs": [],
   "source": [
    "import pandas as pd\n",
    "import numpy as np\n",
    "import json\n",
    "\n",
    "from fbprophet import Prophet\n",
    "\n",
    "in_data = pd.read_csv('geral.csv', index_col=0)\n",
    "categories = json.load(open('subcategorias.json'))\n",
    "out_data = pd.DataFrame(np.zeros((len(categories.keys()), 11)), columns=['Mes', 'Ano', 'Categoria', 'Produto', 'Compra sugerida', 'Venda prevista', 'Venda anterior', 'Estoque atual', 'Estoque anterior', 'Valor venda', 'Valor anterior'])"
   ]
  },
  {
   "cell_type": "code",
   "execution_count": 103,
   "id": "extra-sculpture",
   "metadata": {},
   "outputs": [],
   "source": [
    "def get_forecast_figure(train, periods):\n",
    "    ph = Prophet(daily_seasonality=False)\n",
    "    ph.fit(pd.DataFrame({'ds': train.index, 'y':train.values}))\n",
    "\n",
    "    future = ph.make_future_dataframe(periods=periods, freq='D')\n",
    "    forecast = ph.predict(future)\n",
    "    \n",
    "    forecast.tail()\n",
    "    \n",
    "    return np.round(forecast['yhat'].sum())"
   ]
  },
  {
   "cell_type": "markdown",
   "id": "assigned-gospel",
   "metadata": {},
   "source": [
    "## Geração da tabela de fatos\n",
    "Adicionar compra sugerida, venda prevista, estoque atual, estoque anterior, valor venda, valor anterior."
   ]
  },
  {
   "cell_type": "code",
   "execution_count": 19,
   "id": "endangered-marketing",
   "metadata": {},
   "outputs": [],
   "source": [
    "i = 0\n",
    "for key in categories.keys():\n",
    "    in_data[key] = in_data[categories[key]].sum(axis=1)\n",
    "    row = pd.Series([3, 2021, \n",
    "                     key, key, \n",
    "                     np.random.randint(0, 99), # Compra sugerida\n",
    "                     np.random.randint(0, 999), # Venda prevista\n",
    "                     in_data.loc['2021-03-01':'2021-03-31', key].sum(), # Venda anterior\n",
    "                     np.random.randint(0, 99), # Estoque atual\n",
    "                     np.random.randint(0, 99), # Estoque anterior\n",
    "                     np.random.randint(0, 999999), # Valor venda\n",
    "                     np.random.randint(0, 999999)]) # Valor anterior\n",
    "    out_data.iloc[i] = row\n",
    "    i+= 1"
   ]
  },
  {
   "cell_type": "code",
   "execution_count": 20,
   "id": "careful-killer",
   "metadata": {},
   "outputs": [],
   "source": [
    "in_data.to_csv('geral.csv') # Salvar a serie temporal de vendas com a adição das categorias"
   ]
  },
  {
   "cell_type": "code",
   "execution_count": 3,
   "id": "chronic-montreal",
   "metadata": {},
   "outputs": [],
   "source": [
    "out_data.to_csv('fatos.csv')"
   ]
  },
  {
   "cell_type": "code",
   "execution_count": 4,
   "id": "grateful-notebook",
   "metadata": {},
   "outputs": [],
   "source": [
    "in_data.index = pd.to_datetime(in_data.index)"
   ]
  },
  {
   "cell_type": "code",
   "execution_count": 6,
   "id": "informative-spokesman",
   "metadata": {},
   "outputs": [],
   "source": [
    "category_products = categories['ELETRO LINHA BRANCA']\n",
    "filtered_data = in_data[category_products]\n",
    "filtered_data.index = pd.to_datetime(filtered_data.index)\n",
    "filtered_data = filtered_data.loc[(in_data.index.month == 2) & (in_data.index.year == 2021)]\n",
    "\n",
    "if(len(category_products) < 5): # Em algumas categorias o número de produtos pertencentes é menor que 5\n",
    "    top_5 = filtered_data.sum().sort_values(ascending=False)\n",
    "else:\n",
    "    top_5 = filtered_data.sum().sort_values(ascending=False)[:5]"
   ]
  },
  {
   "cell_type": "code",
   "execution_count": 13,
   "id": "british-cooking",
   "metadata": {},
   "outputs": [],
   "source": [
    "a = {product: sales for (product, sales) in zip(top_5.index, top_5)}"
   ]
  },
  {
   "cell_type": "code",
   "execution_count": 21,
   "id": "narrative-thailand",
   "metadata": {},
   "outputs": [],
   "source": [
    "df = pd.DataFrame({'produto': top_5.index, 'qtd vendida': top_5.values}, index=range(1, 6))"
   ]
  },
  {
   "cell_type": "code",
   "execution_count": 22,
   "id": "swedish-bachelor",
   "metadata": {},
   "outputs": [
    {
     "data": {
      "text/plain": [
       "[{'produto': 'FRITADEIRA AIR FRYER AF-30 I FAMILY IV 3,5L',\n",
       "  'qtd vendida': 1306},\n",
       " {'produto': 'REFRIGERADOR ROC 35 BR', 'qtd vendida': 879},\n",
       " {'produto': 'LAVADORA PAOLA 10KG PRETA', 'qtd vendida': 744},\n",
       " {'produto': 'FOGAO 4BC. AGATA 4062 BR', 'qtd vendida': 556},\n",
       " {'produto': 'LAVADORA PAOLA 10KG BR/LILAS', 'qtd vendida': 496}]"
      ]
     },
     "execution_count": 22,
     "metadata": {},
     "output_type": "execute_result"
    }
   ],
   "source": [
    "df.to_dict('records')"
   ]
  }
 ],
 "metadata": {
  "kernelspec": {
   "display_name": "Python 3",
   "language": "python",
   "name": "python3"
  },
  "language_info": {
   "codemirror_mode": {
    "name": "ipython",
    "version": 3
   },
   "file_extension": ".py",
   "mimetype": "text/x-python",
   "name": "python",
   "nbconvert_exporter": "python",
   "pygments_lexer": "ipython3",
   "version": "3.8.2"
  }
 },
 "nbformat": 4,
 "nbformat_minor": 5
}
