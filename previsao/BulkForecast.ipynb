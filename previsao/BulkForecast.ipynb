{
 "cells": [
  {
   "cell_type": "markdown",
   "id": "surprised-mambo",
   "metadata": {},
   "source": [
    "# Bulk Forecast\n",
    "\n",
    "Geração de previsões para multiplas categorias"
   ]
  },
  {
   "cell_type": "code",
   "execution_count": 34,
   "id": "lesbian-crack",
   "metadata": {},
   "outputs": [],
   "source": [
    "import pandas as pd\n",
    "import numpy as np\n",
    "import json\n",
    "\n",
    "from fbprophet import Prophet\n",
    "\n",
    "in_data = pd.read_csv('geral.csv', index_col=0)\n",
    "categories = json.load(open('subcategorias.json'))\n",
    "out_data = pd.DataFrame(np.zeros((len(categories.keys()), 11)), columns=['Mes', 'Ano', 'Categoria', 'Produto', 'Compra sugerida', 'Venda prevista', 'Venda anterior', 'Estoque atual', 'Estoque anterior', 'Valor venda', 'Valor anterior'])"
   ]
  },
  {
   "cell_type": "code",
   "execution_count": 103,
   "id": "remarkable-spoke",
   "metadata": {},
   "outputs": [],
   "source": [
    "def get_forecast_figure(train, periods):\n",
    "    ph = Prophet(daily_seasonality=False)\n",
    "    ph.fit(pd.DataFrame({'ds': train.index, 'y':train.values}))\n",
    "\n",
    "    future = ph.make_future_dataframe(periods=periods, freq='D')\n",
    "    forecast = ph.predict(future)\n",
    "    \n",
    "    forecast.tail()\n",
    "    \n",
    "    return np.round(forecast['yhat'].sum())"
   ]
  },
  {
   "cell_type": "code",
   "execution_count": 144,
   "id": "becoming-packing",
   "metadata": {},
   "outputs": [],
   "source": [
    "i = 0\n",
    "for key in categories.keys():\n",
    "    in_data[key] = in_data[categories[key]].sum(axis=1)\n",
    "    row = pd.Series([3, 2021, \n",
    "                     key, key, \n",
    "                     np.random.randint(0, 99), # Compra sugerida\n",
    "                     np.random.randint(0, 999), # Venda prevista\n",
    "                     in_data.loc['2021-03-01':'2021-03-31', key].sum(), # Venda anterior\n",
    "                     np.random.randint(0, 99), # Estoque atual\n",
    "                     np.random.randint(0, 99), # Estoque anterior\n",
    "                     np.random.randint(0, 999999), # Valor venda\n",
    "                     np.random.randint(0, 999999)]) # Valor anterior\n",
    "    out_data.iloc[i] = row\n",
    "    i+= 1"
   ]
  },
  {
   "cell_type": "code",
   "execution_count": 145,
   "id": "furnished-exposure",
   "metadata": {},
   "outputs": [],
   "source": [
    "out_data.to_csv('fatos.csv')"
   ]
  },
  {
   "cell_type": "code",
   "execution_count": null,
   "id": "narrow-czech",
   "metadata": {},
   "outputs": [],
   "source": []
  }
 ],
 "metadata": {
  "kernelspec": {
   "display_name": "Python 3",
   "language": "python",
   "name": "python3"
  },
  "language_info": {
   "codemirror_mode": {
    "name": "ipython",
    "version": 3
   },
   "file_extension": ".py",
   "mimetype": "text/x-python",
   "name": "python",
   "nbconvert_exporter": "python",
   "pygments_lexer": "ipython3",
   "version": "3.8.2"
  }
 },
 "nbformat": 4,
 "nbformat_minor": 5
}
